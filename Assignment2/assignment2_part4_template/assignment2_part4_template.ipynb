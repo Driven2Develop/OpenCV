{
 "cells": [
  {
   "cell_type": "code",
   "execution_count": null,
   "id": "f9419437",
   "metadata": {},
   "outputs": [],
   "source": [
    "#import all the necessary libraries\n",
    "import torch\n",
    "import torchvision\n",
    "import numpy as np\n",
    "\n",
    "#random\n",
    "import random\n",
    "\n",
    "#plotting \n",
    "import plotly.express as px\n",
    "\n",
    "# load and show an image with Pillow\n",
    "from PIL import Image"
   ]
  },
  {
   "cell_type": "code",
   "execution_count": null,
   "id": "68710865",
   "metadata": {},
   "outputs": [],
   "source": [
    "#define the Sobel operator\n",
    "class Sobel(torch.nn.Module):\n",
    "    #constructor\n",
    "    def __init__(self):\n",
    "        super(Sobel, self).__init__()\n",
    "        \n",
    "        #TODO: Define the sobel kernels Sx and Sy; Use numpy and define the 3x3 Sobel filters\n",
    "        Sx = np.array[\n",
    "                    [1, 0, -1], \n",
    "                    [2, 0, -2], \n",
    "                    [1, 0, -1]\n",
    "                ]\n",
    "\n",
    "        #reshape\n",
    "        Sx = np.reshape(Sx, (1,1,3,3))\n",
    "        \n",
    "        #TODO: Define the sobel kernels Sx and Sy; Use numpy and define the 3x3 Sobel filters\n",
    "        Sy = np.array[\n",
    "                    [1, 2, 1], \n",
    "                    [0, 0, 0], \n",
    "                    [-1, -2, -1]\n",
    "                ]\n",
    "        \n",
    "        #reshape\n",
    "        Sy = np.reshape(Sy, (1,1,3,3))\n",
    "        \n",
    "        #TODO: use torch.nn.Conv2D to create a convolutional layer for the Sx; set the bias=False, kernel_size=3\n",
    "        #Assume working in B/W so in_channels = 1\n",
    "        self.Sx = torch.nn.Conv2d(in_channels=1, out_channels=3, kernel_size=3, bias=False)\n",
    "        #Overwrite the kernel values \n",
    "        self.Sx.weight = torch.nn.Parameter(torch.from_numpy(Sx).float())\n",
    "\n",
    "        #TODO: use torch.nn.Conv2D to create a convolutional layer for the Sx; set the bias=False, kernel_size=3\n",
    "        self.Sy = torch.nn.Conv2d(in_channels=1, out_channels=3, kernel_size=3, bias=False)\n",
    "        #Overwrite the kernel values \n",
    "        self.Sy.weight = torch.nn.Parameter(torch.from_numpy(Sy).float())\n",
    "        \n",
    "        return\n",
    "    \n",
    "    def forward(self, x):\n",
    "        #x is the input image; \n",
    "        \n",
    "        #reshape it to 1x1x28x28\n",
    "        x = torch.reshape(x, (1,1,28,28))\n",
    "        \n",
    "        #apply the kernels Sx and Sy\n",
    "        gx = self.Sx(x)\n",
    "        gy = self.Sy(x)\n",
    "        \n",
    "        #reshape it back to 1x28x28\n",
    "        gx = gx.squeeze(0)\n",
    "        gy = gy.squeeze(0)\n",
    "        return gx, gy\n",
    "        "
   ]
  },
  {
   "cell_type": "code",
   "execution_count": null,
   "id": "ffb31d51",
   "metadata": {},
   "outputs": [],
   "source": [
    "#Load the example image to be used for debugging, convert to grayscale, and then convert to numpy array\n",
    "image = np.asarray(Image.open('example.png').convert('L'))\n",
    "\n",
    "#Show the image\n",
    "px.imshow(image)\n",
    "\n",
    "#Convert to tensor and reshape\n",
    "image = torch.from_numpy(image).float()\n",
    "image = torch.reshape(image, (1,28,28))"
   ]
  },
  {
   "cell_type": "code",
   "execution_count": null,
   "id": "b273edeb",
   "metadata": {},
   "outputs": [],
   "source": [
    "#TODO: Create an instance of the class Sobel\n",
    "model = Sobel()"
   ]
  },
  {
   "cell_type": "code",
   "execution_count": null,
   "id": "f7d0dfe6",
   "metadata": {},
   "outputs": [],
   "source": [
    "#apply the kernel to the image by calling the forward function\n",
    "gx,gy = model.forward(image)\n",
    "\n",
    "#convert to numpy; size is now 28x28\n",
    "gx = gx.permute(1,2,0).detach().numpy().squeeze(2)\n",
    "gy = gy.permute(1,2,0).detach().numpy().squeeze(2)"
   ]
  },
  {
   "cell_type": "code",
   "execution_count": null,
   "id": "8c177b0f",
   "metadata": {},
   "outputs": [],
   "source": [
    "#show the gradient x\n",
    "px.imshow(gx)"
   ]
  },
  {
   "cell_type": "code",
   "execution_count": null,
   "id": "51b51197",
   "metadata": {},
   "outputs": [],
   "source": [
    "#show the gradient y\n",
    "px.imshow(gy)"
   ]
  },
  {
   "cell_type": "code",
   "execution_count": null,
   "id": "c3f8bfb6",
   "metadata": {},
   "outputs": [],
   "source": [
    "#TODO: calculate and show the gradient magnitude\n",
    "gradient_magnitude = [[gx[i][j] + gy[i][j]\n",
    "                        for j in range(gx.shape[1])]\n",
    "                            for i in range(gx.shape[0])]\n",
    "\n",
    "px.imshow(gradient_magnitude)"
   ]
  },
  {
   "cell_type": "code",
   "execution_count": null,
   "id": "ce3a9cd5",
   "metadata": {},
   "outputs": [],
   "source": [
    "#TODO: Calculate the gradient orientation and threshold anything less than e.g. 100\n",
    "threshold=100\n",
    "gradient_orientation = [[np.arctan2(gy[i][j], gx[i][j]) if gradient_magnitude[i][j] < threshold else 0\n",
    "                        for j in range(gx.shape[1])]\n",
    "                            for i in range(gx.shape[0])]\n",
    "\n",
    "px.imshow(gradient_orientation)"
   ]
  },
  {
   "cell_type": "code",
   "execution_count": null,
   "id": "f5aede8a",
   "metadata": {},
   "outputs": [],
   "source": [
    "#TODO: Calculate the *edge* direction\n",
    "edge_orientation = None \n",
    "\n",
    "px.imshow(edge_orientation)"
   ]
  },
  {
   "cell_type": "code",
   "execution_count": null,
   "id": "20807c20",
   "metadata": {},
   "outputs": [],
   "source": [
    "DATASET_PATH = \"data\"\n",
    "\n",
    "#TODO: Download the MNIST dataset\n",
    "training_dataset = torchvision.datasets.CIFAR10(root=DATASET_PATH, download=True, transform=None, train=True)\n",
    "testing_dataset = torchvision.datasets.CIFAR10(root=DATASET_PATH, download=True, transform=None, train=False)\n",
    "\n",
    "#Make sure there are 60K training examples, and 10K testing examples\n",
    "print(training_dataset, testing_dataset)"
   ]
  },
  {
   "cell_type": "code",
   "execution_count": null,
   "id": "b6057f24",
   "metadata": {},
   "outputs": [],
   "source": [
    "#TODO: Get a random image from the training dataset and show it\n",
    "image = training_dataset[np.random.randint(training_dataset.shape)] #The images in training_dataset are of type tensor\n",
    "\n",
    "plt.imshow(image.permute(1,2,0).numpy(), cmap='gray')"
   ]
  },
  {
   "cell_type": "code",
   "execution_count": null,
   "id": "9bae783f",
   "metadata": {},
   "outputs": [],
   "source": [
    "#TODO: Repeat the same steps as before\n",
    "#1. Apply the Sobel kernels and show the gx and gy\n",
    "#2. Calculate gradient magnitude and show it\n",
    "#3. Calculate gradient orientation and show it\n",
    "#4. Calculate the *edge* orientation and show it\n",
    "#5. Change the signs of the Sobel filter and see how that affects the edge orientation"
   ]
  }
 ],
 "metadata": {
  "kernelspec": {
   "display_name": "Python 3 (ipykernel)",
   "language": "python",
   "name": "python3"
  },
  "language_info": {
   "codemirror_mode": {
    "name": "ipython",
    "version": 3
   },
   "file_extension": ".py",
   "mimetype": "text/x-python",
   "name": "python",
   "nbconvert_exporter": "python",
   "pygments_lexer": "ipython3",
   "version": "3.9.7"
  }
 },
 "nbformat": 4,
 "nbformat_minor": 5
}
